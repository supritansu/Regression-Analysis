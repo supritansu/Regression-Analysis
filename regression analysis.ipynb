{
 "cells": [
  {
   "cell_type": "code",
   "execution_count": 254,
   "metadata": {},
   "outputs": [
    {
     "name": "stdout",
     "output_type": "stream",
     "text": [
      "Requirement already satisfied: linearmodels in c:\\users\\supri\\anaconda3\\lib\\site-packages (4.27)\n",
      "Requirement already satisfied: scipy>=1.2 in c:\\users\\supri\\anaconda3\\lib\\site-packages (from linearmodels) (1.5.2)\n",
      "Requirement already satisfied: mypy-extensions>=0.4 in c:\\users\\supri\\anaconda3\\lib\\site-packages (from linearmodels) (1.0.0)\n",
      "Requirement already satisfied: setuptools-scm<7.0.0,>=6.4.2 in c:\\users\\supri\\anaconda3\\lib\\site-packages (from linearmodels) (6.4.2)\n",
      "Requirement already satisfied: numpy>=1.16 in c:\\users\\supri\\anaconda3\\lib\\site-packages (from linearmodels) (1.23.1)\n",
      "Requirement already satisfied: formulaic~=0.3.2 in c:\\users\\supri\\anaconda3\\lib\\site-packages (from linearmodels) (0.3.4)\n",
      "Requirement already satisfied: property-cached>=1.6.3 in c:\\users\\supri\\anaconda3\\lib\\site-packages (from linearmodels) (1.6.4)\n",
      "Requirement already satisfied: pandas>=0.24 in c:\\users\\supri\\anaconda3\\lib\\site-packages (from linearmodels) (1.1.3)\n",
      "Requirement already satisfied: statsmodels>=0.11 in c:\\users\\supri\\anaconda3\\lib\\site-packages (from linearmodels) (0.12.0)\n",
      "Requirement already satisfied: pyhdfe>=0.1 in c:\\users\\supri\\anaconda3\\lib\\site-packages (from linearmodels) (0.1.2)\n",
      "Requirement already satisfied: Cython>=0.29.21 in c:\\users\\supri\\anaconda3\\lib\\site-packages (from linearmodels) (0.29.21)\n",
      "Requirement already satisfied: setuptools in c:\\users\\supri\\anaconda3\\lib\\site-packages (from setuptools-scm<7.0.0,>=6.4.2->linearmodels) (50.3.1.post20201107)\n",
      "Requirement already satisfied: packaging>=20.0 in c:\\users\\supri\\anaconda3\\lib\\site-packages (from setuptools-scm<7.0.0,>=6.4.2->linearmodels) (20.4)\n",
      "Requirement already satisfied: tomli>=1.0.0 in c:\\users\\supri\\anaconda3\\lib\\site-packages (from setuptools-scm<7.0.0,>=6.4.2->linearmodels) (2.0.1)\n",
      "Requirement already satisfied: astor>=0.8 in c:\\users\\supri\\anaconda3\\lib\\site-packages (from formulaic~=0.3.2->linearmodels) (0.8.1)\n",
      "Requirement already satisfied: wrapt>=1.0 in c:\\users\\supri\\anaconda3\\lib\\site-packages (from formulaic~=0.3.2->linearmodels) (1.11.2)\n",
      "Requirement already satisfied: interface-meta<2.0.0,>=1.2.0 in c:\\users\\supri\\anaconda3\\lib\\site-packages (from formulaic~=0.3.2->linearmodels) (1.3.0)\n",
      "Requirement already satisfied: pytz>=2017.2 in c:\\users\\supri\\anaconda3\\lib\\site-packages (from pandas>=0.24->linearmodels) (2022.1)\n",
      "Requirement already satisfied: python-dateutil>=2.7.3 in c:\\users\\supri\\anaconda3\\lib\\site-packages (from pandas>=0.24->linearmodels) (2.8.1)\n",
      "Requirement already satisfied: patsy>=0.5 in c:\\users\\supri\\anaconda3\\lib\\site-packages (from statsmodels>=0.11->linearmodels) (0.5.1)\n",
      "Requirement already satisfied: pyparsing>=2.0.2 in c:\\users\\supri\\anaconda3\\lib\\site-packages (from packaging>=20.0->setuptools-scm<7.0.0,>=6.4.2->linearmodels) (2.4.7)\n",
      "Requirement already satisfied: six in c:\\users\\supri\\anaconda3\\lib\\site-packages (from packaging>=20.0->setuptools-scm<7.0.0,>=6.4.2->linearmodels) (1.15.0)\n"
     ]
    }
   ],
   "source": [
    "import numpy as np\n",
    "import pandas as pd\n",
    "import matplotlib.pyplot as plt\n",
    "import seaborn as sns\n",
    "import pylab\n",
    "%matplotlib inline\n",
    "!pip install linearmodels\n",
    "\n",
    "from scipy import stats\n",
    "import sklearn\n",
    "import statsmodels.api as sm\n",
    "from statsmodels.stats.outliers_influence import variance_inflation_factor\n",
    "from statsmodels.stats import diagnostic as diag\n",
    "from sklearn.linear_model import LinearRegression\n",
    "import statsmodels.formula.api as smf\n",
    "import linearmodels.iv.model as lm\n",
    "import pandas as pd\n",
    "from linearmodels.iv import IV2SLS\n",
    "\n",
    "from sklearn.linear_model import LogisticRegression\n",
    "from sklearn.model_selection import train_test_split\n",
    "import math\n",
    "from sklearn.preprocessing import StandardScaler\n"
   ]
  },
  {
   "cell_type": "markdown",
   "metadata": {},
   "source": [
    "# OLS"
   ]
  },
  {
   "cell_type": "code",
   "execution_count": 295,
   "metadata": {},
   "outputs": [
    {
     "data": {
      "text/html": [
       "<div>\n",
       "<style scoped>\n",
       "    .dataframe tbody tr th:only-of-type {\n",
       "        vertical-align: middle;\n",
       "    }\n",
       "\n",
       "    .dataframe tbody tr th {\n",
       "        vertical-align: top;\n",
       "    }\n",
       "\n",
       "    .dataframe thead th {\n",
       "        text-align: right;\n",
       "    }\n",
       "</style>\n",
       "<table border=\"1\" class=\"dataframe\">\n",
       "  <thead>\n",
       "    <tr style=\"text-align: right;\">\n",
       "      <th></th>\n",
       "      <th>mpg</th>\n",
       "      <th>cylinders</th>\n",
       "      <th>displacement</th>\n",
       "      <th>horsepower</th>\n",
       "      <th>weight</th>\n",
       "      <th>acceleration</th>\n",
       "    </tr>\n",
       "  </thead>\n",
       "  <tbody>\n",
       "    <tr>\n",
       "      <th>0</th>\n",
       "      <td>18.0</td>\n",
       "      <td>8</td>\n",
       "      <td>307.0</td>\n",
       "      <td>130</td>\n",
       "      <td>3504</td>\n",
       "      <td>12.0</td>\n",
       "    </tr>\n",
       "    <tr>\n",
       "      <th>1</th>\n",
       "      <td>15.0</td>\n",
       "      <td>8</td>\n",
       "      <td>350.0</td>\n",
       "      <td>165</td>\n",
       "      <td>3693</td>\n",
       "      <td>11.5</td>\n",
       "    </tr>\n",
       "    <tr>\n",
       "      <th>2</th>\n",
       "      <td>18.0</td>\n",
       "      <td>8</td>\n",
       "      <td>318.0</td>\n",
       "      <td>150</td>\n",
       "      <td>3436</td>\n",
       "      <td>11.0</td>\n",
       "    </tr>\n",
       "    <tr>\n",
       "      <th>3</th>\n",
       "      <td>16.0</td>\n",
       "      <td>8</td>\n",
       "      <td>304.0</td>\n",
       "      <td>150</td>\n",
       "      <td>3433</td>\n",
       "      <td>12.0</td>\n",
       "    </tr>\n",
       "    <tr>\n",
       "      <th>4</th>\n",
       "      <td>17.0</td>\n",
       "      <td>8</td>\n",
       "      <td>302.0</td>\n",
       "      <td>140</td>\n",
       "      <td>3449</td>\n",
       "      <td>10.5</td>\n",
       "    </tr>\n",
       "    <tr>\n",
       "      <th>...</th>\n",
       "      <td>...</td>\n",
       "      <td>...</td>\n",
       "      <td>...</td>\n",
       "      <td>...</td>\n",
       "      <td>...</td>\n",
       "      <td>...</td>\n",
       "    </tr>\n",
       "    <tr>\n",
       "      <th>393</th>\n",
       "      <td>27.0</td>\n",
       "      <td>4</td>\n",
       "      <td>140.0</td>\n",
       "      <td>86</td>\n",
       "      <td>2790</td>\n",
       "      <td>15.6</td>\n",
       "    </tr>\n",
       "    <tr>\n",
       "      <th>394</th>\n",
       "      <td>44.0</td>\n",
       "      <td>4</td>\n",
       "      <td>97.0</td>\n",
       "      <td>52</td>\n",
       "      <td>2130</td>\n",
       "      <td>24.6</td>\n",
       "    </tr>\n",
       "    <tr>\n",
       "      <th>395</th>\n",
       "      <td>32.0</td>\n",
       "      <td>4</td>\n",
       "      <td>135.0</td>\n",
       "      <td>84</td>\n",
       "      <td>2295</td>\n",
       "      <td>11.6</td>\n",
       "    </tr>\n",
       "    <tr>\n",
       "      <th>396</th>\n",
       "      <td>28.0</td>\n",
       "      <td>4</td>\n",
       "      <td>120.0</td>\n",
       "      <td>79</td>\n",
       "      <td>2625</td>\n",
       "      <td>18.6</td>\n",
       "    </tr>\n",
       "    <tr>\n",
       "      <th>397</th>\n",
       "      <td>31.0</td>\n",
       "      <td>4</td>\n",
       "      <td>119.0</td>\n",
       "      <td>82</td>\n",
       "      <td>2720</td>\n",
       "      <td>19.4</td>\n",
       "    </tr>\n",
       "  </tbody>\n",
       "</table>\n",
       "<p>392 rows × 6 columns</p>\n",
       "</div>"
      ],
      "text/plain": [
       "      mpg  cylinders  displacement  horsepower  weight  acceleration\n",
       "0    18.0          8         307.0         130    3504          12.0\n",
       "1    15.0          8         350.0         165    3693          11.5\n",
       "2    18.0          8         318.0         150    3436          11.0\n",
       "3    16.0          8         304.0         150    3433          12.0\n",
       "4    17.0          8         302.0         140    3449          10.5\n",
       "..    ...        ...           ...         ...     ...           ...\n",
       "393  27.0          4         140.0          86    2790          15.6\n",
       "394  44.0          4          97.0          52    2130          24.6\n",
       "395  32.0          4         135.0          84    2295          11.6\n",
       "396  28.0          4         120.0          79    2625          18.6\n",
       "397  31.0          4         119.0          82    2720          19.4\n",
       "\n",
       "[392 rows x 6 columns]"
      ]
     },
     "execution_count": 295,
     "metadata": {},
     "output_type": "execute_result"
    }
   ],
   "source": [
    "#DATA LOADING AND CLEANING\n",
    "df = pd.read_csv('auto-mpg.csv', encoding='ISO-8859-1')\n",
    "df.replace('?', np.nan, inplace=True)\n",
    "df = df.dropna()\n",
    "df = df.drop(['origin', 'model year','car name'], axis=1)\n",
    "df['horsepower'] = df['horsepower'].astype('int64')\n",
    "df\n"
   ]
  },
  {
   "cell_type": "code",
   "execution_count": 256,
   "metadata": {},
   "outputs": [],
   "source": [
    "#CREATING VARIABLES\n",
    "X=df.drop(['mpg'],axis=1)\n",
    "Y= df[['mpg']]"
   ]
  },
  {
   "cell_type": "markdown",
   "metadata": {},
   "source": [
    "SIMPLE OLS MODEL"
   ]
  },
  {
   "cell_type": "code",
   "execution_count": 257,
   "metadata": {},
   "outputs": [],
   "source": [
    "lm = sm.add_constant(X)"
   ]
  },
  {
   "cell_type": "code",
   "execution_count": 258,
   "metadata": {},
   "outputs": [
    {
     "data": {
      "text/html": [
       "<table class=\"simpletable\">\n",
       "<caption>OLS Regression Results</caption>\n",
       "<tr>\n",
       "  <th>Dep. Variable:</th>           <td>mpg</td>       <th>  R-squared:         </th> <td>   0.708</td> \n",
       "</tr>\n",
       "<tr>\n",
       "  <th>Model:</th>                   <td>OLS</td>       <th>  Adj. R-squared:    </th> <td>   0.704</td> \n",
       "</tr>\n",
       "<tr>\n",
       "  <th>Method:</th>             <td>Least Squares</td>  <th>  F-statistic:       </th> <td>   186.9</td> \n",
       "</tr>\n",
       "<tr>\n",
       "  <th>Date:</th>             <td>Sun, 12 Mar 2023</td> <th>  Prob (F-statistic):</th> <td>9.82e-101</td>\n",
       "</tr>\n",
       "<tr>\n",
       "  <th>Time:</th>                 <td>16:00:11</td>     <th>  Log-Likelihood:    </th> <td> -1120.1</td> \n",
       "</tr>\n",
       "<tr>\n",
       "  <th>No. Observations:</th>      <td>   392</td>      <th>  AIC:               </th> <td>   2252.</td> \n",
       "</tr>\n",
       "<tr>\n",
       "  <th>Df Residuals:</th>          <td>   386</td>      <th>  BIC:               </th> <td>   2276.</td> \n",
       "</tr>\n",
       "<tr>\n",
       "  <th>Df Model:</th>              <td>     5</td>      <th>                     </th>     <td> </td>    \n",
       "</tr>\n",
       "<tr>\n",
       "  <th>Covariance Type:</th>      <td>nonrobust</td>    <th>                     </th>     <td> </td>    \n",
       "</tr>\n",
       "</table>\n",
       "<table class=\"simpletable\">\n",
       "<tr>\n",
       "        <td></td>          <th>coef</th>     <th>std err</th>      <th>t</th>      <th>P>|t|</th>  <th>[0.025</th>    <th>0.975]</th>  \n",
       "</tr>\n",
       "<tr>\n",
       "  <th>const</th>        <td>   46.2643</td> <td>    2.669</td> <td>   17.331</td> <td> 0.000</td> <td>   41.016</td> <td>   51.513</td>\n",
       "</tr>\n",
       "<tr>\n",
       "  <th>cylinders</th>    <td>   -0.3979</td> <td>    0.411</td> <td>   -0.969</td> <td> 0.333</td> <td>   -1.205</td> <td>    0.409</td>\n",
       "</tr>\n",
       "<tr>\n",
       "  <th>displacement</th> <td>-8.313e-05</td> <td>    0.009</td> <td>   -0.009</td> <td> 0.993</td> <td>   -0.018</td> <td>    0.018</td>\n",
       "</tr>\n",
       "<tr>\n",
       "  <th>horsepower</th>   <td>   -0.0453</td> <td>    0.017</td> <td>   -2.716</td> <td> 0.007</td> <td>   -0.078</td> <td>   -0.012</td>\n",
       "</tr>\n",
       "<tr>\n",
       "  <th>weight</th>       <td>   -0.0052</td> <td>    0.001</td> <td>   -6.351</td> <td> 0.000</td> <td>   -0.007</td> <td>   -0.004</td>\n",
       "</tr>\n",
       "<tr>\n",
       "  <th>acceleration</th> <td>   -0.0291</td> <td>    0.126</td> <td>   -0.231</td> <td> 0.817</td> <td>   -0.276</td> <td>    0.218</td>\n",
       "</tr>\n",
       "</table>\n",
       "<table class=\"simpletable\">\n",
       "<tr>\n",
       "  <th>Omnibus:</th>       <td>38.561</td> <th>  Durbin-Watson:     </th> <td>   0.865</td>\n",
       "</tr>\n",
       "<tr>\n",
       "  <th>Prob(Omnibus):</th> <td> 0.000</td> <th>  Jarque-Bera (JB):  </th> <td>  52.737</td>\n",
       "</tr>\n",
       "<tr>\n",
       "  <th>Skew:</th>          <td> 0.706</td> <th>  Prob(JB):          </th> <td>3.53e-12</td>\n",
       "</tr>\n",
       "<tr>\n",
       "  <th>Kurtosis:</th>      <td> 4.111</td> <th>  Cond. No.          </th> <td>3.87e+04</td>\n",
       "</tr>\n",
       "</table><br/><br/>Notes:<br/>[1] Standard Errors assume that the covariance matrix of the errors is correctly specified.<br/>[2] The condition number is large, 3.87e+04. This might indicate that there are<br/>strong multicollinearity or other numerical problems."
      ],
      "text/plain": [
       "<class 'statsmodels.iolib.summary.Summary'>\n",
       "\"\"\"\n",
       "                            OLS Regression Results                            \n",
       "==============================================================================\n",
       "Dep. Variable:                    mpg   R-squared:                       0.708\n",
       "Model:                            OLS   Adj. R-squared:                  0.704\n",
       "Method:                 Least Squares   F-statistic:                     186.9\n",
       "Date:                Sun, 12 Mar 2023   Prob (F-statistic):          9.82e-101\n",
       "Time:                        16:00:11   Log-Likelihood:                -1120.1\n",
       "No. Observations:                 392   AIC:                             2252.\n",
       "Df Residuals:                     386   BIC:                             2276.\n",
       "Df Model:                           5                                         \n",
       "Covariance Type:            nonrobust                                         \n",
       "================================================================================\n",
       "                   coef    std err          t      P>|t|      [0.025      0.975]\n",
       "--------------------------------------------------------------------------------\n",
       "const           46.2643      2.669     17.331      0.000      41.016      51.513\n",
       "cylinders       -0.3979      0.411     -0.969      0.333      -1.205       0.409\n",
       "displacement -8.313e-05      0.009     -0.009      0.993      -0.018       0.018\n",
       "horsepower      -0.0453      0.017     -2.716      0.007      -0.078      -0.012\n",
       "weight          -0.0052      0.001     -6.351      0.000      -0.007      -0.004\n",
       "acceleration    -0.0291      0.126     -0.231      0.817      -0.276       0.218\n",
       "==============================================================================\n",
       "Omnibus:                       38.561   Durbin-Watson:                   0.865\n",
       "Prob(Omnibus):                  0.000   Jarque-Bera (JB):               52.737\n",
       "Skew:                           0.706   Prob(JB):                     3.53e-12\n",
       "Kurtosis:                       4.111   Cond. No.                     3.87e+04\n",
       "==============================================================================\n",
       "\n",
       "Notes:\n",
       "[1] Standard Errors assume that the covariance matrix of the errors is correctly specified.\n",
       "[2] The condition number is large, 3.87e+04. This might indicate that there are\n",
       "strong multicollinearity or other numerical problems.\n",
       "\"\"\""
      ]
     },
     "execution_count": 258,
     "metadata": {},
     "output_type": "execute_result"
    }
   ],
   "source": [
    "result = sm.OLS(Y,lm).fit()\n",
    "result.summary()"
   ]
  },
  {
   "cell_type": "code",
   "execution_count": 267,
   "metadata": {},
   "outputs": [
    {
     "data": {
      "image/png": "[encoded data removed]",
      "text/plain": [
       "<Figure size 432x288 with 1 Axes>"
      ]
     },
     "metadata": {
      "needs_background": "light"
     },
     "output_type": "display_data"
    }
   ],
   "source": [
    "y=Y\n",
    "fig, ax = plt.subplots()\n",
    "ax.scatter(y, result.predict(), label='Fit Line')\n",
    "ax.plot([y.min(), y.max()], [y.min(), y.max()], color='r')\n",
    "ax.legend()\n",
    "plt.show()"
   ]
  },
  {
   "cell_type": "code",
   "execution_count": 259,
   "metadata": {},
   "outputs": [],
   "source": [
    "# Calculate residuals\n",
    "residuals = result.resid"
   ]
  },
  {
   "cell_type": "code",
   "execution_count": 260,
   "metadata": {},
   "outputs": [
    {
     "data": {
      "image/png": "[encoded data removed]",
      "text/plain": [
       "<Figure size 1440x360 with 5 Axes>"
      ]
     },
     "metadata": {
      "needs_background": "light"
     },
     "output_type": "display_data"
    }
   ],
   "source": [
    "fig, axs = plt.subplots(nrows=1, ncols=len(X.columns), figsize=(20, 5))\n",
    "\n",
    "for i, col in enumerate(X.columns):\n",
    "    axs[i].scatter(X[col], residuals)\n",
    "    axs[i].set_xlabel(col)\n",
    "    axs[i].set_ylabel('Residuals')\n",
    "    \n",
    "plt.show()"
   ]
  },
  {
   "cell_type": "markdown",
   "metadata": {},
   "source": [
    "If the residuals are decreasing continuously as the independent variables increase, it may suggest that there is a positive relationship between the dependent variable and the independent variables, and that the model may be missing some important factors that explain the variation in the dependent variable.\n",
    "\n",
    "Alternatively, it could also indicate the presence of endogeneity, where the independent variables are correlated with the error term in the model. This could lead to biased and inconsistent estimates of the coefficients, and it may be necessary to use an instrumental variables regression or other methods to correct for endogeneity."
   ]
  },
  {
   "cell_type": "markdown",
   "metadata": {},
   "source": [
    "Here we can see the weight feature is the most highly related with the standard errors. So we can assume it\n",
    "as our endogeneous variable for now."
   ]
  },
  {
   "cell_type": "markdown",
   "metadata": {},
   "source": [
    "# Now we will check with covariance matrix and try to confirm our endogeneous varibles through logic and domain knowledge. \n",
    "\n",
    "# 2SLS model\n"
   ]
  },
  {
   "cell_type": "code",
   "execution_count": 166,
   "metadata": {},
   "outputs": [
    {
     "name": "stdout",
     "output_type": "stream",
     "text": [
      "              cylinders  displacement  horsepower  weight  acceleration\n",
      "cylinders          1.00          0.95        0.84    0.90         -0.50\n",
      "displacement       0.95          1.00        0.90    0.93         -0.54\n",
      "horsepower         0.84          0.90        1.00    0.86         -0.69\n",
      "weight             0.90          0.93        0.86    1.00         -0.42\n",
      "acceleration      -0.50         -0.54       -0.69   -0.42          1.00\n"
     ]
    }
   ],
   "source": [
    "# the correlation matrix of the variables used in the regression of M/B\n",
    "corrMatrix = X.corr().round(2)\n",
    "print(corrMatrix)"
   ]
  },
  {
   "cell_type": "raw",
   "metadata": {},
   "source": [
    "As we can see , Weight is highly correlated to cylinders and displacement."
   ]
  },
  {
   "cell_type": "code",
   "execution_count": 196,
   "metadata": {},
   "outputs": [],
   "source": [
    "ols_=smf.ols(formula=\"mpg ~ weight+displacement+acceleration\", data=df).fit()"
   ]
  },
  {
   "cell_type": "code",
   "execution_count": 219,
   "metadata": {},
   "outputs": [],
   "source": [
    "mdatac=sm.add_constant(data=df,prepend=False)\n",
    "iv_model=lm.IV2SLS(dependent=df['mpg'],exog=df[['displacement','acceleration']],endog=df[[ 'weight']],\n",
    "             instruments=df[[ 'cylinders','horsepower']]).fit(cov_type='homoskedastic',debiased=True)"
   ]
  },
  {
   "cell_type": "code",
   "execution_count": 268,
   "metadata": {},
   "outputs": [
    {
     "data": {
      "image/png": "[encoded data removed]",
      "text/plain": [
       "<Figure size 432x288 with 1 Axes>"
      ]
     },
     "metadata": {
      "needs_background": "light"
     },
     "output_type": "display_data"
    }
   ],
   "source": [
    "y=Y\n",
    "fig, ax = plt.subplots()\n",
    "ax.scatter(y, iv_model.predict(), label='Fit Line')\n",
    "ax.plot([y.min(), y.max()], [y.min(), y.max()], color='r')\n",
    "ax.legend()\n",
    "plt.show()"
   ]
  },
  {
   "cell_type": "code",
   "execution_count": 228,
   "metadata": {},
   "outputs": [
    {
     "name": "stdout",
     "output_type": "stream",
     "text": [
      "OLS Model:\n",
      "R-squared: 0.7017393319006076\n",
      "Adjusted R-squared: 0.6994331927142721\n",
      "F-statistic: 304.2918380896525\n",
      "2SLS Model:\n",
      "R-squared: 0.8938627568536421\n",
      "Adjusted R-squared: 0.8930442177034131\n",
      "F-statistic: Model F-statistic\n",
      "H0: All parameters ex. constant are zero\n",
      "Statistic: 1150.7366\n",
      "P-value: 0.0000\n",
      "Distributed: F(3,389)\n"
     ]
    }
   ],
   "source": [
    "\n",
    "\n",
    "# Compare the R-squared, adjusted R-squared, and F-statistic of both models\n",
    "print('OLS Model:')\n",
    "print('R-squared:', ols_model.rsquared)\n",
    "print('Adjusted R-squared:', ols_model.rsquared_adj)\n",
    "print('F-statistic:', ols_model.fvalue)\n",
    "\n",
    "print('2SLS Model:')\n",
    "print('R-squared:', iv_model._r2)\n",
    "print('Adjusted R-squared:', iv_model.rsquared_adj)\n",
    "print('F-statistic:', iv_model._f_statistic)\n",
    "\n"
   ]
  },
  {
   "cell_type": "markdown",
   "metadata": {},
   "source": [
    "For the OLS model:\n",
    "\n",
    "R-squared: 0.7017 indicates that approximately 70% of the variation in the dependent variable is explained by the independent variables in the model.\n",
    "Adjusted R-squared: 0.6994 is similar to R-squared, but it is adjusted for the number of independent variables in the model. It penalizes the addition of variables that do not improve the fit of the model.\n",
    "F-statistic: 304.2918 is a measure of how well the model fits the data relative to a null model with no predictors. A larger value indicates a better fit of the model to the data.\n",
    "For the 2SLS model:\n",
    "\n",
    "R-squared: 0.8939 indicates that approximately 89% of the variation in the dependent variable is explained by the independent variables in the model.\n",
    "Adjusted R-squared: 0.8930 is similar to R-squared, but it is adjusted for the number of independent variables in the model. It penalizes the addition of variables that do not improve the fit of the model.\n",
    "F-statistic: 1150.7366 is a measure of how well the model fits the data relative to a null model with no predictors. A larger value indicates a better fit of the model to the data.\n",
    "The null hypothesis for the F-statistic is that all of the parameters in the model (excluding the intercept) are zero. The p-value of 0.0000 indicates that we can reject this null hypothesis at any reasonable level of significance (e.g., alpha = 0.05). \n",
    "This means that at least one of the independent variables is significantly related to the dependent variable."
   ]
  },
  {
   "cell_type": "code",
   "execution_count": 246,
   "metadata": {},
   "outputs": [
    {
     "name": "stdout",
     "output_type": "stream",
     "text": [
      "The params of ols are:const         528.876711\n",
      "cylinders     290.356425\n",
      "horsepower      8.231070\n",
      "dtype: float64\n",
      "The params of 2sls are:displacement   -0.157818\n",
      "acceleration    0.602928\n",
      "weight          0.014909\n",
      "Name: parameter, dtype: float64\n"
     ]
    }
   ],
   "source": [
    "print(f\"The params of ols are:{ols.params}\")\n",
    "print(f\"The params of 2sls are:{iv_model.params}\")"
   ]
  },
  {
   "cell_type": "code",
   "execution_count": 247,
   "metadata": {},
   "outputs": [
    {
     "name": "stdout",
     "output_type": "stream",
     "text": [
      "The tvalue of ols are:const          9.308547\n",
      "cylinders     15.755405\n",
      "horsepower    10.078400\n",
      "dtype: float64\n",
      "The tvalues of 2sls are:displacement   -6.673070\n",
      "acceleration    2.827287\n",
      "weight          5.674738\n",
      "Name: tstat, dtype: float64\n"
     ]
    }
   ],
   "source": [
    "print(f\"The tvalue of ols are:{ols.tvalues}\")\n",
    "print(f\"The tvalues of 2sls are:{iv_model.tstats}\")"
   ]
  },
  {
   "cell_type": "markdown",
   "metadata": {},
   "source": [
    "For OLS model:\n",
    "\n",
    "The constant term has a t-value of 9.31, which is significant at a high confidence level. This suggests that the intercept is significantly different from zero, indicating that there is a non-zero average value of the dependent variable.\n",
    "The cylinders variable has a t-value of 15.76, which is highly significant. This suggests that the number of cylinders has a significant effect on the dependent variable (mpg).\n",
    "The horsepower variable has a t-value of 10.08, which is highly significant. This suggests that horsepower has a significant effect on the dependent variable (mpg).\n",
    "For 2SLS model:\n",
    "\n",
    "The displacement variable has a t-value of -6.67, which is highly significant. This suggests that displacement has a significant negative effect on the dependent variable (mpg).\n",
    "The acceleration variable has a t-value of 2.83, which is significant at a moderate confidence level. This suggests that acceleration has a significant positive effect on the dependent variable (mpg).\n",
    "The weight variable has a t-value of 5.67, which is highly significant. This suggests that weight has a significant positive effect on the dependent variable (mpg)."
   ]
  },
  {
   "cell_type": "code",
   "execution_count": 248,
   "metadata": {},
   "outputs": [
    {
     "name": "stdout",
     "output_type": "stream",
     "text": [
      "The p values of ols are:const         9.650370e-19\n",
      "cylinders     1.314909e-43\n",
      "horsepower    2.226548e-21\n",
      "dtype: float64\n",
      "The p values of 2sls are:displacement    8.642753e-11\n",
      "acceleration    4.936966e-03\n",
      "weight          2.717374e-08\n",
      "Name: pvalue, dtype: float64\n"
     ]
    }
   ],
   "source": [
    "print(f\"The p values of ols are:{ols.pvalues}\")\n",
    "print(f\"The p values of 2sls are:{iv_model.pvalues}\")"
   ]
  },
  {
   "cell_type": "markdown",
   "metadata": {},
   "source": [
    "The p-values of a regression model provide a measure of the statistical significance of each independent variable in explaining the dependent variable.\n",
    "\n",
    "In the OLS model, all three independent variables (const, cylinders, horsepower) have p-values less than 0.05, indicating that they are statistically significant in explaining the dependent variable (mpg).\n",
    "\n",
    "In the 2SLS model, all three independent variables (displacement, acceleration, weight) have p-values less than 0.05, indicating that they are statistically significant in explaining the endogenous variable (mpg) through the instrumental variables (cylinders, horsepower)."
   ]
  },
  {
   "cell_type": "markdown",
   "metadata": {},
   "source": [
    "# LOGISTIC REGRESSION"
   ]
  },
  {
   "cell_type": "markdown",
   "metadata": {},
   "source": [
    "We will use number of cylinders as the classes either 4 or 8. we will remove some data containing 3 and 5 cylinders. We are using all the other variables as predictors."
   ]
  },
  {
   "cell_type": "code",
   "execution_count": 296,
   "metadata": {},
   "outputs": [],
   "source": [
    "df['cylinders'] = df['cylinders'].replace({8:0, 4:1})\n"
   ]
  },
  {
   "cell_type": "code",
   "execution_count": 297,
   "metadata": {},
   "outputs": [],
   "source": [
    "df = df.loc[~df['cylinders'].isin([3,5,6])]\n"
   ]
  },
  {
   "cell_type": "code",
   "execution_count": 298,
   "metadata": {},
   "outputs": [],
   "source": [
    "Y=df[['cylinders']]\n",
    "X=df.drop(['cylinders'],axis=1)"
   ]
  },
  {
   "cell_type": "code",
   "execution_count": 299,
   "metadata": {},
   "outputs": [],
   "source": [
    "from sklearn.preprocessing import StandardScaler\n",
    "\n",
    "# assuming X is your data matrix with shape (n_samples, n_features)\n",
    "scaler = StandardScaler()\n",
    "X_scaled = scaler.fit_transform(X)"
   ]
  },
  {
   "cell_type": "code",
   "execution_count": 300,
   "metadata": {},
   "outputs": [
    {
     "name": "stdout",
     "output_type": "stream",
     "text": [
      "Accuracy: 1.0\n"
     ]
    },
    {
     "name": "stderr",
     "output_type": "stream",
     "text": [
      "C:\\Users\\supri\\anaconda3\\lib\\site-packages\\sklearn\\utils\\validation.py:72: DataConversionWarning: A column-vector y was passed when a 1d array was expected. Please change the shape of y to (n_samples, ), for example using ravel().\n",
      "  return f(**kwargs)\n"
     ]
    }
   ],
   "source": [
    "\n",
    "X_train, X_test, y_train, y_test = train_test_split(X, Y, test_size=0.33, random_state=42)\n",
    "\n",
    "# Initialize a logistic regression model\n",
    "clf = LogisticRegression()\n",
    "\n",
    "# Train the model on the training set\n",
    "clf.fit(X_train, y_train)\n",
    "\n",
    "# Predict the classes for the testing set\n",
    "y_pred = clf.predict(X_test)\n",
    "\n",
    "# Evaluate the accuracy of the model\n",
    "accuracy = clf.score(X_test, y_test)\n",
    "print('Accuracy:', accuracy)"
   ]
  },
  {
   "cell_type": "code",
   "execution_count": 301,
   "metadata": {},
   "outputs": [
    {
     "data": {
      "image/png": "[encoded data removed]",
      "text/plain": [
       "<Figure size 432x288 with 1 Axes>"
      ]
     },
     "metadata": {
      "needs_background": "light"
     },
     "output_type": "display_data"
    }
   ],
   "source": [
    "from sklearn.metrics import plot_roc_curve\n",
    "\n",
    "# Plot ROC curve\n",
    "plot_roc_curve(clf, X_test, y_test)\n",
    "plt.show()\n"
   ]
  },
  {
   "cell_type": "code",
   "execution_count": 303,
   "metadata": {},
   "outputs": [
    {
     "name": "stdout",
     "output_type": "stream",
     "text": [
      "Coefficients: [[ 0.22796165 -0.276047    0.12083271  0.01175305  0.11376608]]\n",
      "Intercept: [0.02114801]\n",
      "Accuracy: 1.0\n"
     ]
    }
   ],
   "source": [
    "# Extract the coefficients and intercept from the model\n",
    "coef = clf.coef_\n",
    "intercept = clf.intercept_\n",
    "\n",
    "# Print the coefficients and intercept\n",
    "print('Coefficients:', coef)\n",
    "print('Intercept:', intercept)\n",
    "\n",
    "# Extract the predicted probabilities for the testing set\n",
    "y_prob = clf.predict_proba(X_test)\n",
    "\n",
    "# Extract the predicted classes for the testing set\n",
    "y_pred = clf.predict(X_test)\n",
    "\n",
    "# Calculate the accuracy score for the testing set\n",
    "accuracy = clf.score(X_test, y_test)\n",
    "\n",
    "# Print the accuracy score\n",
    "print('Accuracy:', accuracy)\n"
   ]
  },
  {
   "cell_type": "code",
   "execution_count": null,
   "metadata": {},
   "outputs": [],
   "source": []
  }
 ],
 "metadata": {
  "kernelspec": {
   "display_name": "Python 3",
   "language": "python",
   "name": "python3"
  },
  "language_info": {
   "codemirror_mode": {
    "name": "ipython",
    "version": 3
   },
   "file_extension": ".py",
   "mimetype": "text/x-python",
   "name": "python",
   "nbconvert_exporter": "python",
   "pygments_lexer": "ipython3",
   "version": "3.8.5"
  }
 },
 "nbformat": 4,
 "nbformat_minor": 4
}
